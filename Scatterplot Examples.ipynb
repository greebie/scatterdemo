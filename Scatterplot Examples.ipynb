{
 "cells": [
  {
   "cell_type": "code",
   "execution_count": 3,
   "metadata": {},
   "outputs": [],
   "source": [
    "import pandas\n",
    "import numpy\n",
    "from ggplot import *\n",
    "%matplotlib inline"
   ]
  },
  {
   "cell_type": "code",
   "execution_count": 92,
   "metadata": {},
   "outputs": [
    {
     "ename": "NameError",
     "evalue": "name 'sub' is not defined",
     "output_type": "error",
     "traceback": [
      "\u001b[0;31m---------------------------------------------------------------------------\u001b[0m",
      "\u001b[0;31mNameError\u001b[0m                                 Traceback (most recent call last)",
      "\u001b[0;32m<ipython-input-92-bd61ed6b59a0>\u001b[0m in \u001b[0;36m<module>\u001b[0;34m()\u001b[0m\n\u001b[1;32m     22\u001b[0m \u001b[0;34m\u001b[0m\u001b[0m\n\u001b[1;32m     23\u001b[0m \u001b[0mTITLE\u001b[0m \u001b[0;34m=\u001b[0m \u001b[0mggtitle\u001b[0m\u001b[0;34m(\u001b[0m\u001b[0;34m\"INSERT FULL TITLE HERE\"\u001b[0m\u001b[0;34m)\u001b[0m\u001b[0;34m\u001b[0m\u001b[0m\n\u001b[0;32m---> 24\u001b[0;31m \u001b[0mSUBTITLE\u001b[0m \u001b[0;34m=\u001b[0m \u001b[0msub\u001b[0m\u001b[0;34m(\u001b[0m\u001b[0;34m\"A subtitle\"\u001b[0m\u001b[0;34m)\u001b[0m\u001b[0;34m\u001b[0m\u001b[0m\n\u001b[0m\u001b[1;32m     25\u001b[0m \u001b[0mXLAB\u001b[0m \u001b[0;34m=\u001b[0m \u001b[0mxlab\u001b[0m\u001b[0;34m(\u001b[0m\u001b[0;34m\"INSERT X-AXIS LABEL HERE\"\u001b[0m\u001b[0;34m)\u001b[0m\u001b[0;34m\u001b[0m\u001b[0m\n\u001b[1;32m     26\u001b[0m \u001b[0mYLAB\u001b[0m \u001b[0;34m=\u001b[0m \u001b[0mylab\u001b[0m\u001b[0;34m(\u001b[0m\u001b[0;34m\"INSERT Y-AXIS LABEL HERE\"\u001b[0m\u001b[0;34m)\u001b[0m\u001b[0;34m\u001b[0m\u001b[0m\n",
      "\u001b[0;31mNameError\u001b[0m: name 'sub' is not defined"
     ]
    }
   ],
   "source": [
    "looks = (aes (x = 'wt', # column value for x-axis\n",
    "            y = 'mpg', # column value for y-axis \n",
    "            # size = None, # size values column name (e.g. 10, 100, 30 etc.)\n",
    "            # shape = None, # shapes column name, uses numbers from 0-25.\n",
    "                          # 0 - empty shapes (0 is square, 1 is circle, 2 is triangle) \n",
    "                          # 15-20 - filled shapes, no border.\n",
    "                          # 21-25 - filled shapes with border, default is 16 (a dot).\n",
    "            # color = None, # Column name containing colors, as required.\n",
    "            # alpha = None  # Column name containing transparency values.\n",
    "        ))\n",
    "\n",
    "defaultBackground = geom_point(\n",
    "    color='steelblue',\n",
    "    size=200, \n",
    "    alpha=0.99, \n",
    "    shape=None) \n",
    "defaultForeground = geom_point(\n",
    "    color='pink', \n",
    "    size = 40, \n",
    "    alpha=0.8, \n",
    "    shape=None)\n",
    "\n",
    "TITLE = ggtitle(\"INSERT FULL TITLE HERE\")\n",
    "SUBTITLE = sub(\"A subtitle\")\n",
    "XLAB = xlab(\"INSERT X-AXIS LABEL HERE\")\n",
    "YLAB = ylab(\"INSERT Y-AXIS LABEL HERE\")\n",
    "XLIM = xlim(0, 50) # set limits for x-axis\n",
    "YLIM = ylim(0, 50) # set limits for y-axis, if desired"
   ]
  },
  {
   "cell_type": "code",
   "execution_count": 91,
   "metadata": {},
   "outputs": [
    {
     "ename": "NameError",
     "evalue": "name 'SUBTITLE' is not defined",
     "output_type": "error",
     "traceback": [
      "\u001b[0;31m---------------------------------------------------------------------------\u001b[0m",
      "\u001b[0;31mNameError\u001b[0m                                 Traceback (most recent call last)",
      "\u001b[0;32m<ipython-input-91-4fd7c940d488>\u001b[0m in \u001b[0;36m<module>\u001b[0;34m()\u001b[0m\n\u001b[0;32m----> 1\u001b[0;31m \u001b[0mggplot\u001b[0m\u001b[0;34m(\u001b[0m\u001b[0mmtcars\u001b[0m\u001b[0;34m,\u001b[0m \u001b[0mlooks\u001b[0m\u001b[0;34m)\u001b[0m \u001b[0;34m+\u001b[0m    \u001b[0mdefaultBackground\u001b[0m \u001b[0;34m+\u001b[0m    \u001b[0mdefaultForeground\u001b[0m \u001b[0;34m+\u001b[0m    \u001b[0mTITLE\u001b[0m \u001b[0;34m+\u001b[0m \u001b[0mSUBTITLE\u001b[0m \u001b[0;34m+\u001b[0m \u001b[0mXLAB\u001b[0m \u001b[0;34m+\u001b[0m \u001b[0mYLAB\u001b[0m \u001b[0;31m# +\\\u001b[0m\u001b[0;34m\u001b[0m\u001b[0m\n\u001b[0m\u001b[1;32m      2\u001b[0m     \u001b[0;31m#XLIM + YLIM\u001b[0m\u001b[0;34m\u001b[0m\u001b[0;34m\u001b[0m\u001b[0m\n",
      "\u001b[0;31mNameError\u001b[0m: name 'SUBTITLE' is not defined"
     ]
    }
   ],
   "source": [
    "ggplot(mtcars, looks) +\\\n",
    "    defaultBackground +\\\n",
    "    defaultForeground +\\\n",
    "    TITLE + SUBTITLE + XLAB + YLAB # +\\\n",
    "    #XLIM + YLIM"
   ]
  },
  {
   "cell_type": "code",
   "execution_count": null,
   "metadata": {},
   "outputs": [],
   "source": []
  }
 ],
 "metadata": {
  "kernelspec": {
   "display_name": "Python 3",
   "language": "python",
   "name": "python3"
  },
  "language_info": {
   "codemirror_mode": {
    "name": "ipython",
    "version": 3
   },
   "file_extension": ".py",
   "mimetype": "text/x-python",
   "name": "python",
   "nbconvert_exporter": "python",
   "pygments_lexer": "ipython3",
   "version": "3.7.0"
  }
 },
 "nbformat": 4,
 "nbformat_minor": 2
}
